{
 "cells": [
  {
   "cell_type": "code",
   "execution_count": 1,
   "metadata": {
    "collapsed": false
   },
   "outputs": [
    {
     "data": {
      "application/javascript": [
       "require.undef(\"nbextensions/jquery-ui.custom.min\");"
      ],
      "text/plain": [
       "<IPython.core.display.Javascript object>"
      ]
     },
     "metadata": {},
     "output_type": "display_data"
    },
    {
     "data": {
      "application/javascript": [
       "require.undef(\"nbextensions/glow.2.1.min\");"
      ],
      "text/plain": [
       "<IPython.core.display.Javascript object>"
      ]
     },
     "metadata": {},
     "output_type": "display_data"
    },
    {
     "data": {
      "application/javascript": [
       "require.undef(\"nbextensions/glowcomm\");"
      ],
      "text/plain": [
       "<IPython.core.display.Javascript object>"
      ]
     },
     "metadata": {},
     "output_type": "display_data"
    },
    {
     "data": {
      "application/javascript": [
       "require.undef(\"nbextensions/pako.min\");"
      ],
      "text/plain": [
       "<IPython.core.display.Javascript object>"
      ]
     },
     "metadata": {},
     "output_type": "display_data"
    },
    {
     "data": {
      "application/javascript": [
       "require.undef(\"nbextensions/pako_deflate.min\");"
      ],
      "text/plain": [
       "<IPython.core.display.Javascript object>"
      ]
     },
     "metadata": {},
     "output_type": "display_data"
    },
    {
     "data": {
      "application/javascript": [
       "require.undef(\"nbextensions/pako_inflate.min\");"
      ],
      "text/plain": [
       "<IPython.core.display.Javascript object>"
      ]
     },
     "metadata": {},
     "output_type": "display_data"
    },
    {
     "data": {
      "application/javascript": [
       "require([\"nbextensions/glowcomm\"], function(){console.log(\"glowcomm loaded\");})"
      ],
      "text/plain": [
       "<IPython.core.display.Javascript object>"
      ]
     },
     "metadata": {},
     "output_type": "display_data"
    },
    {
     "data": {
      "text/html": [
       "<div id=\"glowscript\" class=\"glowscript\"></div>"
      ],
      "text/plain": [
       "<IPython.core.display.HTML object>"
      ]
     },
     "metadata": {},
     "output_type": "display_data"
    },
    {
     "data": {
      "application/javascript": [
       "window.__context = { glowscript_container: $(\"#glowscript\").removeAttr(\"id\")}"
      ],
      "text/plain": [
       "<IPython.core.display.Javascript object>"
      ]
     },
     "metadata": {},
     "output_type": "display_data"
    }
   ],
   "source": [
    "# Model the motion of a falling coffee filter in two ways:\n",
    "# 1. using a pubished solution; and\n",
    "# 2. using a now-next process (Euler's method).\n",
    "# Here are the physical parameters:\n",
    "\n",
    "m = 1.00 # kg\n",
    "g = 9.81 # N/kg\n",
    "x0 = 0.0 # m\n",
    "y0 = 0.0 # m\n",
    "z0 = 0.0 # m\n",
    "v0 = 0.0 # m/s Note: the kinematic model, below, requires v0 = 0\n",
    "dt = 0.1 # s  See what happens to the agreement when dt is increased.\n",
    "dC = 0.01 # Ns^2/m^2\n",
    "\n",
    "# Here is the published solution:\n",
    "def analytic_model(t):\n",
    "  x = t/sqrt(m/(g*dC))\n",
    "  y = y0 - (m/dC)*log((exp(x)+exp(-x))/2) \n",
    "  return y\n",
    "    \n",
    "# Here is an alternative approach, using Euler's method:\n",
    "def eulers_model(yi,vi):\n",
    "  F = -m*g + dC*vi*vi # Ask physics students to write this line of code.\n",
    "  a = F/m\n",
    "  vf = vi + a*dt\n",
    "  yf = yi + vf*dt\n",
    "  return (yf,vf)\n",
    "  \n",
    "# Here are some output parameters physics students could change:\n",
    "max_t = 3\n",
    "graph_motion = True\n",
    "animate = True\n",
    "write_file = False   # not working yet in GlowScript\n",
    "graph_min_pos = -60\n",
    "graph_max_pos = 10\n",
    "\n",
    "#######################################################################\n",
    "# Physics students should not need to change anything below this line.#\n",
    "#######################################################################\n",
    "from vpython import *\n",
    "\n",
    "# Initiallize some variables:\n",
    "\n",
    "t = 0\n",
    "iter_pos, iter_vel = y0, v0\n",
    "tab_1, tab_2 = [], []\n",
    "iterations = int(max_t/dt)\n",
    "\n",
    "# Iterate both the computational and the analytic models,\n",
    "# populating the data tables:\n",
    "\n",
    "for i in range(iterations):\n",
    "  tab_1.append((i*dt*3, iter_pos, z0))\n",
    "  iter_pos, iter_vel = eulers_model(iter_pos, iter_vel)\n",
    "  tab_2.append((i*dt*3, analytic_model(t), z0))\n",
    "  t += dt\n",
    "\n",
    "# Write a data file:\n",
    "\n",
    "if write_file:\n",
    "  data_file = open('vp_data_file.txt', 'w')\n",
    "  for i in range(iterations):\n",
    "    data_row = (str(i*dt) + \", \" + str(tab_1[i][1]) + \", \" + str(tab_2[i][1]) + \"\\n\")\n",
    "    data_file.write(data_row)\n",
    "  data_file.close()\n",
    "\n",
    "# Graph the motion:\n",
    "\n",
    "if graph_motion:\n",
    "    Title = \"Position vs. Time\"\n",
    "    xLabel = \"time (s)\"\n",
    "    yLabel = \"position (m)\"\n",
    "\n",
    "    gd = graph(title= Title, xtitle = xLabel, ytitle = yLabel,\n",
    "                  foreground=color.black, background=color.cyan,\n",
    "                  ymin=graph_min_pos, ymax=graph_max_pos, xmax = max_t)\n",
    "    plot_1 = gdots(size=6)\n",
    "    plot_2 = gcurve(color=color.white)  # How to make line wider?\n",
    "    for i in range(iterations):\n",
    "        plot_1.plot(pos=(i*dt, tab_1[i][1]))\n",
    "        plot_2.plot(pos=(i*dt, tab_2[i][1]))\n",
    "\n",
    "# Animate the motion:\n",
    "\n",
    "def animate_motion():  # need to relocate the starting position of the spheres\n",
    "    i = 0\n",
    "    for i in range(iterations):\n",
    "        rate(1/dt)\n",
    "        if tab_1[i][1] < -10: break\n",
    "        sphere_1.pos = vector(tab_1[i][0], tab_1[i][1], tab_1[i][2])\n",
    "        sphere_2.pos = vector(tab_2[i][0], tab_2[i][1], tab_2[i][2])\n",
    "\n",
    "if animate:\n",
    "    scene.width = 500\n",
    "    scene.height = 500\n",
    "    #scene.x = 0 # does what? \n",
    "    #scene.y = 0 # does what?\n",
    "    #scene.background = color.white\n",
    "    scene.fov = 0.001\n",
    "    scene.range = 10\n",
    "    scene.userzoom = 1 # does what?\n",
    "    scene.userspin = 1 # does what?\n",
    "\n",
    "    sphere_1 = sphere(pos = vector(tab_1[0][0], tab_1[0][1], tab_1[0][2]),\n",
    "                      radius = 0.2, make_trail = True, color=color.cyan)\n",
    "    sphere_2 = sphere(pos = vector(tab_2[0][0], tab_2[0][1], tab_2[0][2]),\n",
    "                      radius = 0.2, make_trail = True, color=color.yellow)\n",
    "\n",
    "#    scene.waitfor('click', animate_motion)  \n",
    "#    scene.bind('click', animate_motion)\n",
    "animate_motion()    \n",
    "\n"
   ]
  },
  {
   "cell_type": "code",
   "execution_count": null,
   "metadata": {
    "collapsed": true
   },
   "outputs": [],
   "source": []
  }
 ],
 "metadata": {
  "kernelspec": {
   "display_name": "VPython",
   "language": "python",
   "name": "vpython"
  },
  "language_info": {
   "codemirror_mode": {
    "name": "ipython",
    "version": 3
   },
   "file_extension": ".py",
   "mimetype": "text/x-python",
   "name": "python",
   "nbconvert_exporter": "python",
   "pygments_lexer": "ipython3",
   "version": "3.5.2"
  }
 },
 "nbformat": 4,
 "nbformat_minor": 0
}
