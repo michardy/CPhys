{
 "cells": [
  {
   "cell_type": "markdown",
   "metadata": {
    "slideshow": {
     "slide_type": "slide"
    }
   },
   "source": [
    "<div class=\"clearfix\" style=\"padding: 10px; padding-left: 0px\">\n",
    "<img src=\"https://raw.githubusercontent.com/jupyter/nature-demo/master/images/jupyter-logo.png\" width=\"150px\" style=\"display: inline-block; margin-top: 5px;\">\n",
    "<a href=\"http://bit.ly/tmpnbdevrax\"><img src=\"https://cloud.githubusercontent.com/assets/836375/4916141/2732892e-64d6-11e4-980f-11afcf03ca31.png\" width=\"150px\" class=\"pull-right\" style=\"display: inline-block; margin: 0px;\"></a>\n",
    "</div>\n",
    "\n",
    "## Welcome to the Conceptual Physics Jupyter Notebook!\n",
    "\n",
    "<div class=\"alert alert-warning\" role=\"alert\" style=\"margin: 10px\">\n",
    "<p>**KEEP CALM AND READ ON**</p>\n",
    "\n",
    "<p>A lot of things seem confusing at first.  You'll see this is not <i>that</i> bad.</p>\n",
    "</div>\n",
    "\n",
    "Is it true that my server is hosted thanks to [Rackspace](http://bit.ly/tmpnbdevrax), on their on-demand bare metal servers, [OnMetal](http://bit.ly/onmetal)?\n",
    "\n",
    "Markdown: Basics\n",
    "================\n",
    "\n",
    "<ul id=\"ProjectSubmenu\">\n",
    "    <li><a href=\"/projects/markdown/\" title=\"Markdown Project Page\">Main</a></li>\n",
    "    <li><a class=\"selected\" title=\"Markdown Basics\">Basics</a></li>\n",
    "    <li><a href=\"/projects/markdown/syntax\" title=\"Markdown Syntax Documentation\">Syntax</a></li>\n",
    "    <li><a href=\"/projects/markdown/license\" title=\"Pricing and License Information\">License</a></li>\n",
    "    <li><a href=\"/projects/markdown/dingus\" title=\"Online Markdown Web Form\">Dingus</a></li>\n",
    "</ul>\n",
    "\n",
    "Let's start by trying to get my air drag program to run.\n",
    "\n",
    "For some reason I have to restart the kernel after each run by clicking the refresh icon.\n",
    "\n",
    "I still can't get the \"click\" feature to work. Hmm ..."
   ]
  },
  {
   "cell_type": "markdown",
   "metadata": {
    "slideshow": {
     "slide_type": "slide"
    }
   },
   "source": [
    "There must be a way to shrink the next (code) block."
   ]
  },
  {
   "cell_type": "code",
   "execution_count": 5,
   "metadata": {
    "collapsed": false,
    "slideshow": {
     "slide_type": "slide"
    }
   },
   "outputs": [
    {
     "name": "stdout",
     "output_type": "stream",
     "text": [
      "v = 1.92e+02 m/s\n"
     ]
    }
   ],
   "source": [
    "# Here is an example of how you might shows your\n",
    "# work for a simple physics problem.\n",
    "# You can control the number of decimal places\n",
    "# in the answer by changing the number in the\n",
    "# format string of the print statement from 2\n",
    "# to anything you want.\n",
    "from vpython import *\n",
    "\n",
    "Dt = 1.22 # s\n",
    "Dx = 234 # m\n",
    "v = Dx/Dt\n",
    "\n",
    "ansUnits = \"m/s\"\n",
    "ansVariable = v\n",
    "ansSymbol = \"v\"\n",
    "\n",
    "print (ansSymbol + \" = \" + \"%.2e\" % ansVariable + \" \" + ansUnits)\n",
    "\n",
    "# When you are finished, just Save and copy the\n",
    "# url of your trinket into the Show-My-Work box.\n",
    "# You can also copy and paste the numerical answer,\n",
    "# with units, into the answer box itself."
   ]
  },
  {
   "cell_type": "markdown",
   "metadata": {
    "slideshow": {
     "slide_type": "subslide"
    }
   },
   "source": [
    "Ok, so now it's you turn.  In the space below, write a program\n",
    "to calculate distance based upon speed (assume it does not change)\n",
    "and the duration of a time interval."
   ]
  },
  {
   "cell_type": "code",
   "execution_count": 6,
   "metadata": {
    "collapsed": false,
    "slideshow": {
     "slide_type": "slide"
    }
   },
   "outputs": [
    {
     "name": "stdout",
     "output_type": "stream",
     "text": [
      "What's the speed, in m/s? 123.456\n",
      "v = 1.23e+02 m/s\n"
     ]
    }
   ],
   "source": [
    "from vpython import *\n",
    "\n",
    "v = float(input(\"What's the speed, in m/s? \"))\n",
    "\n",
    "ansUnits = \"m/s\"\n",
    "ansVariable = v\n",
    "ansSymbol = \"v\"\n",
    "print (ansSymbol + \" = \" + \"%.2e\" % ansVariable + \" \" + ansUnits)\n"
   ]
  },
  {
   "cell_type": "code",
   "execution_count": null,
   "metadata": {
    "collapsed": true
   },
   "outputs": [],
   "source": []
  }
 ],
 "metadata": {
  "celltoolbar": "Slideshow",
  "kernelspec": {
   "display_name": "VPython",
   "language": "python",
   "name": "vpython"
  },
  "language_info": {
   "codemirror_mode": {
    "name": "ipython",
    "version": 3
   },
   "file_extension": ".py",
   "mimetype": "text/x-python",
   "name": "python",
   "nbconvert_exporter": "python",
   "pygments_lexer": "ipython3",
   "version": "3.5.2"
  }
 },
 "nbformat": 4,
 "nbformat_minor": 0
}
